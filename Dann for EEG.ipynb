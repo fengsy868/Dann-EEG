{
 "cells": [
  {
   "cell_type": "code",
   "execution_count": 37,
   "metadata": {
    "collapsed": true
   },
   "outputs": [],
   "source": [
    "require 'optim'\n",
    "require 'nn'\n"
   ]
  },
  {
   "cell_type": "markdown",
   "metadata": {},
   "source": [
    "Definition of DANN"
   ]
  },
  {
   "cell_type": "code",
   "execution_count": 38,
   "metadata": {
    "collapsed": false
   },
   "outputs": [],
   "source": [
    "if not opt then\n",
    "   print '==> processing options'\n",
    "   cmd = torch.CmdLine()\n",
    "   cmd:text()\n",
    "   cmd:text('Deep Learning - Telecom tutorial')\n",
    "   cmd:text()\n",
    "   cmd:text('Options:')\n",
    "   cmd:option('-learningRate', 0.1, 'learning rate at t=0')\n",
    "   cmd:option('-domainLambda', 0.1, 'regularization term for transfer learning')\n",
    "   cmd:option('-batchSize', 500, 'mini-batch size (1 = pure stochastic)')\n",
    "   cmd:option('-maxEpoch', 50, 'maximum nb of epoch')\n",
    "   cmd:option('-seed', 0, 'random seed')\n",
    "   cmd:option('-saveModel', false, 'flag for saving the model on disk at each epoch, if improvement')\n",
    "   cmd:option('-save', 'results', 'subdirectory to save/log experiments in')\n",
    "   cmd:text()\n",
    "   opt = cmd:parse(arg or {})\n",
    "end\n",
    "torch.manualSeed(opt.seed)\n",
    "trainLogger = optim.Logger(paths.concat(\"results\", opt.save))\n",
    "trainLogger:setNames({'epoch','trainLoss','trainAccuracy','validLoss','validAccuracy'})\n"
   ]
  },
  {
   "cell_type": "markdown",
   "metadata": {},
   "source": [
    "# Load the source data, session 1 person 1"
   ]
  },
  {
   "cell_type": "code",
   "execution_count": 39,
   "metadata": {
    "collapsed": true
   },
   "outputs": [],
   "source": [
    " nTrainS1 = 6000\n",
    " nValidS1 = 6000\n",
    " EEGDataset1 = torch.load('EEG.torch')\n",
    " nInputEEG = EEGDataset1:size(3)\n",
    "\n",
    "sourceTrainSet = torch.Tensor(nTrainS1, nInputEEG)\n",
    "sourceTrainSet:copy(EEGDataset1[1]:narrow(1,1,nTrainS1):float())\n",
    "sourceTrainSetLabel = torch.Tensor(nTrainS1, nInputEEG)\n",
    "sourceTrainSetLabel:copy(EEGDataset1[1]:narrow(1,1,nTrainS1):float())\n",
    "\n",
    "sourceValidSet = torch.Tensor(nTrainS1,nInputEEG)\n",
    "sourceValidSet:copy(EEGDataset1[1]:narrow(1,nTrainS1+1,nValidS1):float())\n",
    "sourceValidSetLabel = torch.Tensor(nValidS1, nInputEEG)\n",
    "sourceValidSetLabel:copy(EEGDataset1[1]:narrow(1,nTrainS1+1,nValidS1):float())\n",
    "\n",
    "sourceInputs = torch.Tensor(opt.batchSize,sourceTrainSet:size(2)) \n",
    "sourceLabels = torch.Tensor(opt.batchSize,sourceTrainSet:size(2))                                        \n"
   ]
  },
  {
   "cell_type": "markdown",
   "metadata": {},
   "source": [
    "# Load the target data, session 2 person 1"
   ]
  },
  {
   "cell_type": "code",
   "execution_count": 40,
   "metadata": {
    "collapsed": true
   },
   "outputs": [],
   "source": [
    " nTrainS2 = 6000\n",
    " nValidS2 = 6000\n",
    " EEGDataset2 = torch.load('EEGMat.torch')\n",
    " nInputEEG = EEGDataset2:size(3)\n",
    "\n",
    "targetTrainSet = torch.Tensor(nTrainS2, nInputEEG)\n",
    "targetTrainSet:copy(EEGDataset2[1]:narrow(1,1,nTrainS2):float())\n",
    "targetTrainSetLabel = torch.Tensor(nTrainS2, nInputEEG)\n",
    "targetTrainSetLabel:copy(EEGDataset2[1]:narrow(1,1,nTrainS2):float())\n",
    "\n",
    "targetValidSet = torch.Tensor(nTrainS2,nInputEEG)\n",
    "targetValidSet:copy(EEGDataset2[1]:narrow(1,nTrainS2+1,nValidS2):float())\n",
    "targetValidSetLabel = torch.Tensor(nValidS2, nInputEEG)\n",
    "targetValidSetLabel:copy(EEGDataset2[1]:narrow(1,nTrainS2+1,nValidS2):float())\n",
    "\n",
    "targetInputs = torch.Tensor(opt.batchSize,targetTrainSet:size(2)) \n",
    "targetLabels = torch.Tensor(opt.batchSize,targetTrainSet:size(2)) \n"
   ]
  },
  {
   "cell_type": "markdown",
   "metadata": {},
   "source": [
    "# Definition of DANN structure"
   ]
  },
  {
   "cell_type": "code",
   "execution_count": 41,
   "metadata": {
    "collapsed": false
   },
   "outputs": [
    {
     "ename": "[string \"hiddenUnits = 5...\"]:16: unexpected symbol near '['",
     "evalue": "",
     "output_type": "error",
     "traceback": [
      "[string \"hiddenUnits = 5...\"]:16: unexpected symbol near '['"
     ]
    }
   ],
   "source": [
    "hiddenUnits = 5\n",
    "-- Definition of the encoder\n",
    "featExtractor = nn.Sequential()\n",
    "--featExtractor:add(nn.Reshape(nInputEEG))\n",
    "featExtractor:add(nn.Linear(nInputEEG,hiddenUnits))\n",
    "featExtractor:add(nn.Sigmoid())\n",
    "-- featExtractor:add(nn.Linear(5,5))\n",
    "\n",
    "-- Definition of the decoder\n",
    "labelPredictor = nn.Sequential()\n",
    "labelPredictor:add(nn.Linear(hiddenUnits,nInputEEG))\n",
    "labelPredictor:add(nn.Sigmoid())\n",
    "\n",
    "-- Definition of the domain classifier\n",
    "domainClassifier = nn.Sequential()\n",
    "domainClassifier:add(nn.GradientReversal([lambda = 5]))\n",
    "domainClassifier:add(nn.Linear(hiddenUnits,1))\n",
    "domainClassifier:add(nn.Sigmoid())\n"
   ]
  },
  {
   "cell_type": "code",
   "execution_count": 42,
   "metadata": {
    "collapsed": true
   },
   "outputs": [],
   "source": [
    "-- Definition of the criterion\n",
    "labelPredictorCriterion = nn.MSECriterion()\n",
    "domainClassifierCriterion = nn.BCECriterion()"
   ]
  },
  {
   "cell_type": "code",
   "execution_count": 43,
   "metadata": {
    "collapsed": false
   },
   "outputs": [
    {
     "data": {
      "text/plain": [
       "feat  285\n",
       "[torch.LongStorage of size 1]\n",
       "\t\n",
       "label  336\n",
       "[torch.LongStorage of size 1]\n",
       "\t\n",
       "domain  6\n",
       "[torch.LongStorage of size 1]\n",
       "\t\n"
      ]
     },
     "execution_count": 43,
     "metadata": {},
     "output_type": "execute_result"
    }
   ],
   "source": [
    "-- Retrieve the pointers to the parameters and gradParameters from the model for latter use\n",
    "featExtractorParams,featExtractorGradParams = featExtractor:getParameters()\n",
    "labelPredictorParams,labelPredictorGradParams = labelPredictor:getParameters()\n",
    "domainClassifierParams,domainClassifierGradParams = domainClassifier:getParameters()\n",
    "params = torch.Tensor(featExtractorParams:size(1)+labelPredictorParams:size(1)+domainClassifierParams:size(1))\n",
    "params:narrow(1,1,featExtractorParams:size(1)):copy(featExtractorParams)\n",
    "params:narrow(1,featExtractorParams:size(1),labelPredictorParams:size(1)):copy(labelPredictorParams)\n",
    "params:narrow(1,featExtractorParams:size(1)+labelPredictorParams:size(1),domainClassifierParams:size(1)):copy(domainClassifierParams)\n",
    "gradParams = torch.Tensor(featExtractorParams:size(1)+labelPredictorParams:size(1)+domainClassifierParams:size(1))\n",
    "--\n",
    "\n",
    "print(\"feat \" .. tostring(featExtractorParams:size()))\n",
    "print(\"label \" .. tostring(labelPredictorParams:size()))\n",
    "print(\"domain \" .. tostring(domainClassifierParams:size()))\n"
   ]
  },
  {
   "cell_type": "markdown",
   "metadata": {},
   "source": [
    "# Redefine the train() function"
   ]
  },
  {
   "cell_type": "code",
   "execution_count": 44,
   "metadata": {
    "collapsed": true
   },
   "outputs": [],
   "source": [
    "\n",
    "-- Learning function\n",
    "function train()\n",
    "\n",
    "   local tick1 = sys.clock()\n",
    "   \n",
    "   -- It may help to shuffle the examples\n",
    "   shuffle = torch.randperm(sourceTrainSet:size(1))\n",
    "   \n",
    "   for t = 1,sourceTrainSet:size(1),opt.batchSize do\n",
    "\t  \n",
    "\t  xlua.progress(t,sourceTrainSet:size(1))\n",
    "\t  \n",
    "\t  -- Define the minibatch\n",
    "\t  for i = 1,opt.batchSize do\n",
    "\t\t sourceInputs[i]:copy(sourceTrainSet[shuffle[t+i-1]])\n",
    "\t\t sourceLabels[i] = sourceTrainSetLabel[shuffle[t+i-1]]\n",
    "\t\t targetInputs[i]:copy(targetTrainSet[shuffle[t+i-1]])\n",
    "\t\t targetLabels[i] = targetTrainSetLabel[shuffle[t+i-1]]\n",
    "\t  end\n",
    "\n",
    "\t  -- Definition of the evaluation function (closure)\n",
    "\t  local feval = function(x)\n",
    "\t\t \n",
    "\t\t --featExtractorParams:copy(x)\n",
    "\t\t featExtractorParams:copy(x:narrow(1,1,featExtractorParams:size(1)))\n",
    "\t\t labelPredictorParams:copy(x:narrow(1,featExtractorParams:size(1),labelPredictorParams:size(1)))\n",
    "\t\t domainClassifierParams:copy(x:narrow(1,featExtractorParams:size(1)+labelPredictorParams:size(1),domainClassifierParams:size(1)))\n",
    "\t\t \n",
    "\t\t featExtractorGradParams:zero()\n",
    "\t\t labelPredictorGradParams:zero()\n",
    "\t\t domainClassifierGradParams:zero()\n",
    "\n",
    "\t\t local feats = featExtractor:forward(sourceInputs)\n",
    "\t\t local preds = labelPredictor:forward(feats)\n",
    "\t\t local labelCost = labelPredictorCriterion:forward(preds,sourceLabels)\n",
    "\n",
    "\t\t -- print(\"Label cost \".. tostring(labelCost))\n",
    "\n",
    "\t\t local labelDfdo = labelPredictorCriterion:backward(preds, sourceLabels)\n",
    "\t\t local gradLabelPredictor = labelPredictor:backward(feats, labelDfdo)\n",
    "\t\t featExtractor:backward(sourceInputs, gradLabelPredictor)\n",
    "\n",
    "\t\t local domPreds = domainClassifier:forward(feats)\n",
    "\t\t local domCost = domainClassifierCriterion:forward(domPreds,torch.Tensor(domPreds:size(1),1):fill(1)) -- TODO: ugly, replace with two unique allocations\n",
    "\t\t local domDfdo = domainClassifierCriterion:backward(domPreds,torch.Tensor(domPreds:size(1),1):fill(1))\n",
    "\t\t local gradDomainClassifier = domainClassifier:backward(feats,domDfdo,opt.domainLambda) --TODO: verify\n",
    "\t\t featExtractor:backward(sourceInputs, gradDomainClassifier,opt.domainLambda)\n",
    "\n",
    "\t\t --- Target propagation\n",
    "\t\t local targetFeats = featExtractor:forward(targetInputs)\n",
    "\t\t local targetDomPreds = domainClassifier:forward(targetFeats)\n",
    "\t\t local targetDomCost = domainClassifierCriterion:forward(targetDomPreds,torch.Tensor(targetDomPreds:size(1),1):fill(0)) -- TODO: ugly, replace with two unique allocations\n",
    "\t\t local targetDomDfdo = domainClassifierCriterion:backward(targetDomPreds,torch.Tensor(targetDomPreds:size(1),1):fill(0))\n",
    "\t\t local targetGradDomainClassifier = domainClassifier:backward(targetFeats,targetDomDfdo,opt.domainLambda) --TODO: verify\n",
    "\t\t featExtractor:backward(targetInputs, targetGradDomainClassifier,opt.domainLambda)\n",
    "\n",
    "\t\t -- print(\"Domain cost \".. tostring(domCost+targetDomCost))\n",
    "\n",
    "\t\t params:narrow(1,1,featExtractorParams:size(1)):copy(featExtractorParams)\n",
    "\t\t params:narrow(1,featExtractorParams:size(1),labelPredictorParams:size(1)):copy(labelPredictorParams)\n",
    "\t\t params:narrow(1,featExtractorParams:size(1)+labelPredictorParams:size(1),domainClassifierParams:size(1)):copy(domainClassifierParams)\n",
    "\t\t gradParams:narrow(1,1,featExtractorGradParams:size(1)):copy(featExtractorGradParams)\n",
    "\t\t gradParams:narrow(1,featExtractorGradParams:size(1),labelPredictorGradParams:size(1)):copy(labelPredictorGradParams)\n",
    "\t\t gradParams:narrow(1,featExtractorGradParams:size(1)+labelPredictorParams:size(1),domainClassifierGradParams:size(1)):copy(domainClassifierGradParams)\n",
    "\n",
    "\t\t return params,gradParams\t\t \n",
    "\t  end\n",
    "\t  optim.sgd(feval,params,opt)\n",
    "\n",
    "   end\n",
    "   print(\"tick\" .. sys.clock()-tick1)\n",
    "end"
   ]
  },
  {
   "cell_type": "markdown",
   "metadata": {},
   "source": [
    "# Main function"
   ]
  },
  {
   "cell_type": "code",
   "execution_count": 45,
   "metadata": {
    "collapsed": false
   },
   "outputs": [
    {
     "data": {
      "text/plain": [
       "EPOCH: 1\t\n",
       " + Train loss 0.021105947069843 1.3914257887728\t\n"
      ]
     },
     "execution_count": 45,
     "metadata": {},
     "output_type": "execute_result"
    },
    {
     "data": {
      "text/plain": [
       " + Valid loss 0.019533513803055 1.3896508546989\t\n"
      ]
     },
     "execution_count": 45,
     "metadata": {},
     "output_type": "execute_result"
    },
    {
     "data": {
      "text/plain": [
       "tick0.25401210784912\t\n"
      ]
     },
     "execution_count": 45,
     "metadata": {},
     "output_type": "execute_result"
    },
    {
     "data": {
      "text/plain": [
       "EPOCH: 2\t\n",
       " + Train loss 0.020918737900082 1.3912878743633\t\n"
      ]
     },
     "execution_count": 45,
     "metadata": {},
     "output_type": "execute_result"
    },
    {
     "data": {
      "text/plain": [
       " + Valid loss 0.019383144157362 1.3895052199485\t\n"
      ]
     },
     "execution_count": 45,
     "metadata": {},
     "output_type": "execute_result"
    },
    {
     "data": {
      "text/plain": [
       "tick0.34698390960693\t"
      ]
     },
     "execution_count": 45,
     "metadata": {},
     "output_type": "execute_result"
    },
    {
     "data": {
      "text/plain": [
       "\n"
      ]
     },
     "execution_count": 45,
     "metadata": {},
     "output_type": "execute_result"
    },
    {
     "data": {
      "text/plain": [
       "EPOCH: 3\t\n",
       " + Train loss 0.020716805896761 1.3911574803387\t\n"
      ]
     },
     "execution_count": 45,
     "metadata": {},
     "output_type": "execute_result"
    },
    {
     "data": {
      "text/plain": [
       " + Valid loss 0.019221345560611 1.3893659805825\t\n"
      ]
     },
     "execution_count": 45,
     "metadata": {},
     "output_type": "execute_result"
    },
    {
     "data": {
      "text/plain": [
       "tick0.37539291381836\t\n"
      ]
     },
     "execution_count": 45,
     "metadata": {},
     "output_type": "execute_result"
    },
    {
     "data": {
      "text/plain": [
       "EPOCH: 4\t\n",
       " + Train loss 0.020516959380778 1.3910427929954\t\n"
      ]
     },
     "execution_count": 45,
     "metadata": {},
     "output_type": "execute_result"
    },
    {
     "data": {
      "text/plain": [
       " + Valid loss 0.019061799662885 1.3892421041506\t\n"
      ]
     },
     "execution_count": 45,
     "metadata": {},
     "output_type": "execute_result"
    },
    {
     "data": {
      "text/plain": [
       "tick0.26014995574951\t\n"
      ]
     },
     "execution_count": 45,
     "metadata": {},
     "output_type": "execute_result"
    },
    {
     "data": {
      "text/plain": [
       "EPOCH: 5\t\n",
       " + Train loss 0.020319382362398 1.3909385630102\t\n"
      ]
     },
     "execution_count": 45,
     "metadata": {},
     "output_type": "execute_result"
    },
    {
     "data": {
      "text/plain": [
       " + Valid loss 0.018904478681414 1.3891285470995\t\n"
      ]
     },
     "execution_count": 45,
     "metadata": {},
     "output_type": "execute_result"
    },
    {
     "data": {
      "text/plain": [
       "tick0.26050305366516\t\n"
      ]
     },
     "execution_count": 45,
     "metadata": {},
     "output_type": "execute_result"
    },
    {
     "data": {
      "text/plain": [
       "EPOCH: 6\t\n",
       " + Train loss 0.020123823479712 1.3908516933332\t\n"
      ]
     },
     "execution_count": 45,
     "metadata": {},
     "output_type": "execute_result"
    },
    {
     "data": {
      "text/plain": [
       " + Valid loss 0.018749138544213 1.3890316831236\t\n"
      ]
     },
     "execution_count": 45,
     "metadata": {},
     "output_type": "execute_result"
    },
    {
     "data": {
      "text/plain": [
       "tick0.25833582878113\t\n"
      ]
     },
     "execution_count": 45,
     "metadata": {},
     "output_type": "execute_result"
    },
    {
     "data": {
      "text/plain": [
       "EPOCH: 7\t\n",
       " + Train loss 0.019930238687972 1.390770924091\t\n"
      ]
     },
     "execution_count": 45,
     "metadata": {},
     "output_type": "execute_result"
    },
    {
     "data": {
      "text/plain": [
       " + Valid loss 0.018595837187746 1.3889407511028\t\n"
      ]
     },
     "execution_count": 45,
     "metadata": {},
     "output_type": "execute_result"
    },
    {
     "data": {
      "text/plain": [
       "tick0.38537406921387\t\n"
      ]
     },
     "execution_count": 45,
     "metadata": {},
     "output_type": "execute_result"
    },
    {
     "data": {
      "text/plain": [
       "EPOCH: 8\t\n",
       " + Train loss 0.019738481823579 1.3907006589593\t\n"
      ]
     },
     "execution_count": 45,
     "metadata": {},
     "output_type": "execute_result"
    },
    {
     "data": {
      "text/plain": [
       " + Valid loss 0.018444641429018 1.3888600141691\t\n"
      ]
     },
     "execution_count": 45,
     "metadata": {},
     "output_type": "execute_result"
    },
    {
     "data": {
      "text/plain": [
       "tick0.25638604164124\t\n"
      ]
     },
     "execution_count": 45,
     "metadata": {},
     "output_type": "execute_result"
    },
    {
     "data": {
      "text/plain": [
       "EPOCH: 9\t\n",
       " + Train loss 0.019548774366649 1.3906396323455\t\n"
      ]
     },
     "execution_count": 45,
     "metadata": {},
     "output_type": "execute_result"
    },
    {
     "data": {
      "text/plain": [
       " + Valid loss 0.018295274718907 1.3887882482663\t\n"
      ]
     },
     "execution_count": 45,
     "metadata": {},
     "output_type": "execute_result"
    },
    {
     "data": {
      "text/plain": [
       "tick0.25610208511353\t\n"
      ]
     },
     "execution_count": 45,
     "metadata": {},
     "output_type": "execute_result"
    },
    {
     "data": {
      "text/plain": [
       "EPOCH: 10\t\n",
       " + Train loss 0.019360719568713 1.3905840429943\t\n"
      ]
     },
     "execution_count": 45,
     "metadata": {},
     "output_type": "execute_result"
    },
    {
     "data": {
      "text/plain": [
       " + Valid loss 0.018147809549562 1.3887215126041\t\n"
      ]
     },
     "execution_count": 45,
     "metadata": {},
     "output_type": "execute_result"
    },
    {
     "data": {
      "text/plain": [
       "tick0.38718891143799\t\n"
      ]
     },
     "execution_count": 45,
     "metadata": {},
     "output_type": "execute_result"
    },
    {
     "data": {
      "text/plain": [
       "EPOCH: 11\t\n",
       " + Train loss 0.019174663612223 1.3905359283852\t\n"
      ]
     },
     "execution_count": 45,
     "metadata": {},
     "output_type": "execute_result"
    },
    {
     "data": {
      "text/plain": [
       " + Valid loss 0.01800225711902 1.3886621997641\t\n"
      ]
     },
     "execution_count": 45,
     "metadata": {},
     "output_type": "execute_result"
    },
    {
     "data": {
      "text/plain": [
       "tick0.24027299880981\t\n"
      ]
     },
     "execution_count": 45,
     "metadata": {},
     "output_type": "execute_result"
    },
    {
     "data": {
      "text/plain": [
       "EPOCH: 12\t\n",
       " + Train loss 0.018990213782217 1.3904902563655\t\n"
      ]
     },
     "execution_count": 45,
     "metadata": {},
     "output_type": "execute_result"
    },
    {
     "data": {
      "text/plain": [
       " + Valid loss 0.017858472326305 1.3886050685754\t\n"
      ]
     },
     "execution_count": 45,
     "metadata": {},
     "output_type": "execute_result"
    },
    {
     "data": {
      "text/plain": [
       "tick0.25455498695374\t\n"
      ]
     },
     "execution_count": 45,
     "metadata": {},
     "output_type": "execute_result"
    },
    {
     "data": {
      "text/plain": [
       "EPOCH: 13\t\n",
       " + Train loss 0.018807612826495 1.3904505524786\t\n"
      ]
     },
     "execution_count": 45,
     "metadata": {},
     "output_type": "execute_result"
    },
    {
     "data": {
      "text/plain": [
       " + Valid loss 0.017716341736084 1.3885536407284\t\n"
      ]
     },
     "execution_count": 45,
     "metadata": {},
     "output_type": "execute_result"
    },
    {
     "data": {
      "text/plain": [
       "tick0.25382709503174\t\n"
      ]
     },
     "execution_count": 45,
     "metadata": {},
     "output_type": "execute_result"
    },
    {
     "data": {
      "text/plain": [
       "EPOCH: 14\t\n",
       " + Train loss 0.018626358313515 1.3904112623019\t\n"
      ]
     },
     "execution_count": 45,
     "metadata": {},
     "output_type": "execute_result"
    },
    {
     "data": {
      "text/plain": [
       " + Valid loss 0.017575924549539 1.3885024318334\t\n"
      ]
     },
     "execution_count": 45,
     "metadata": {},
     "output_type": "execute_result"
    },
    {
     "data": {
      "text/plain": [
       "tick0.31298303604126\t\n"
      ]
     },
     "execution_count": 45,
     "metadata": {},
     "output_type": "execute_result"
    },
    {
     "data": {
      "text/plain": [
       "EPOCH: 15\t\n",
       " + Train loss 0.01844710438545 1.3903789300205\t\n"
      ]
     },
     "execution_count": 45,
     "metadata": {},
     "output_type": "execute_result"
    },
    {
     "data": {
      "text/plain": [
       " + Valid loss 0.017437298702291 1.3884581538113\t\n"
      ]
     },
     "execution_count": 45,
     "metadata": {},
     "output_type": "execute_result"
    },
    {
     "data": {
      "text/plain": [
       "tick0.18889808654785\t\n"
      ]
     },
     "execution_count": 45,
     "metadata": {},
     "output_type": "execute_result"
    },
    {
     "data": {
      "text/plain": [
       "EPOCH: 16\t\n",
       " + Train loss 0.018269084339236 1.3903464671296\t\n"
      ]
     },
     "execution_count": 45,
     "metadata": {},
     "output_type": "execute_result"
    },
    {
     "data": {
      "text/plain": [
       " + Valid loss 0.017300185330157 1.388413304281\t\n"
      ]
     },
     "execution_count": 45,
     "metadata": {},
     "output_type": "execute_result"
    },
    {
     "data": {
      "text/plain": [
       "tick0.17957401275635\t\n"
      ]
     },
     "execution_count": 45,
     "metadata": {},
     "output_type": "execute_result"
    },
    {
     "data": {
      "text/plain": [
       "EPOCH: 17\t\n",
       " + Train loss 0.018092733602008 1.3903163557784\t\n"
      ]
     },
     "execution_count": 45,
     "metadata": {},
     "output_type": "execute_result"
    },
    {
     "data": {
      "text/plain": [
       " + Valid loss 0.017164687221165 1.3883708213307\t\n"
      ]
     },
     "execution_count": 45,
     "metadata": {},
     "output_type": "execute_result"
    },
    {
     "data": {
      "text/plain": [
       "tick0.24998998641968\t\n"
      ]
     },
     "execution_count": 45,
     "metadata": {},
     "output_type": "execute_result"
    },
    {
     "data": {
      "text/plain": [
       "EPOCH: 18\t\n",
       " + Train loss 0.017917982328338 1.3902867414066\t\n"
      ]
     },
     "execution_count": 45,
     "metadata": {},
     "output_type": "execute_result"
    },
    {
     "data": {
      "text/plain": [
       " + Valid loss 0.017030752455367 1.3883286898607\t\n"
      ]
     },
     "execution_count": 45,
     "metadata": {},
     "output_type": "execute_result"
    },
    {
     "data": {
      "text/plain": [
       "tick0.38257193565369\t\n"
      ]
     },
     "execution_count": 45,
     "metadata": {},
     "output_type": "execute_result"
    },
    {
     "data": {
      "text/plain": [
       "EPOCH: 19\t\n",
       " + Train loss 0.017744610077479 1.3902581709678\t\n"
      ]
     },
     "execution_count": 45,
     "metadata": {},
     "output_type": "execute_result"
    },
    {
     "data": {
      "text/plain": [
       " + Valid loss 0.016898440867408 1.3882875583692\t\n"
      ]
     },
     "execution_count": 45,
     "metadata": {},
     "output_type": "execute_result"
    },
    {
     "data": {
      "text/plain": [
       "tick0.24127197265625\t\n"
      ]
     },
     "execution_count": 45,
     "metadata": {},
     "output_type": "execute_result"
    },
    {
     "data": {
      "text/plain": [
       "EPOCH: 20\t\n",
       " + Train loss 0.017572655852215 1.3902332721167\t\n"
      ]
     },
     "execution_count": 45,
     "metadata": {},
     "output_type": "execute_result"
    },
    {
     "data": {
      "text/plain": [
       " + Valid loss 0.016767519497299 1.3882497396638\t\n"
      ]
     },
     "execution_count": 45,
     "metadata": {},
     "output_type": "execute_result"
    },
    {
     "data": {
      "text/plain": [
       "tick0.26531410217285\t\n"
      ]
     },
     "execution_count": 45,
     "metadata": {},
     "output_type": "execute_result"
    },
    {
     "data": {
      "text/plain": [
       "EPOCH: 21\t\n",
       " + Train loss 0.017402317202052 1.390205086698\t\n"
      ]
     },
     "execution_count": 45,
     "metadata": {},
     "output_type": "execute_result"
    },
    {
     "data": {
      "text/plain": [
       " + Valid loss 0.016638166755949 1.388208827041\t\n"
      ]
     },
     "execution_count": 45,
     "metadata": {},
     "output_type": "execute_result"
    },
    {
     "data": {
      "text/plain": [
       "tick0.25915098190308\t\n"
      ]
     },
     "execution_count": 45,
     "metadata": {},
     "output_type": "execute_result"
    },
    {
     "data": {
      "text/plain": [
       "EPOCH: 22\t\n",
       " + Train loss 0.017233178699109 1.3901799464187\t\n"
      ]
     },
     "execution_count": 45,
     "metadata": {},
     "output_type": "execute_result"
    },
    {
     "data": {
      "text/plain": [
       " + Valid loss 0.01651022641821 1.3881706389842\t\n"
      ]
     },
     "execution_count": 45,
     "metadata": {},
     "output_type": "execute_result"
    },
    {
     "data": {
      "text/plain": [
       "tick0.38977193832397\t\n"
      ]
     },
     "execution_count": 45,
     "metadata": {},
     "output_type": "execute_result"
    },
    {
     "data": {
      "text/plain": [
       "EPOCH: 23\t\n",
       " + Train loss 0.017065578108851 1.3901537004819\t\n"
      ]
     },
     "execution_count": 45,
     "metadata": {},
     "output_type": "execute_result"
    },
    {
     "data": {
      "text/plain": [
       " + Valid loss 0.016383765076647 1.3881314358838\t\n"
      ]
     },
     "execution_count": 45,
     "metadata": {},
     "output_type": "execute_result"
    },
    {
     "data": {
      "text/plain": [
       "tick0.19489693641663\t\n"
      ]
     },
     "execution_count": 45,
     "metadata": {},
     "output_type": "execute_result"
    },
    {
     "data": {
      "text/plain": [
       "EPOCH: 24\t\n",
       " + Train loss 0.016899293396896 1.3901269399819\t\n"
      ]
     },
     "execution_count": 45,
     "metadata": {},
     "output_type": "execute_result"
    },
    {
     "data": {
      "text/plain": [
       " + Valid loss 0.01625880939548 1.3880917256624\t\n"
      ]
     },
     "execution_count": 45,
     "metadata": {},
     "output_type": "execute_result"
    },
    {
     "data": {
      "text/plain": [
       "tick0.25109314918518\t\n"
      ]
     },
     "execution_count": 45,
     "metadata": {},
     "output_type": "execute_result"
    },
    {
     "data": {
      "text/plain": [
       "EPOCH: 25\t\n",
       " + Train loss 0.016734500936676 1.3901010607817\t\n"
      ]
     },
     "execution_count": 45,
     "metadata": {},
     "output_type": "execute_result"
    },
    {
     "data": {
      "text/plain": [
       " + Valid loss 0.016135175174972 1.3880528127734\t\n"
      ]
     },
     "execution_count": 45,
     "metadata": {},
     "output_type": "execute_result"
    },
    {
     "data": {
      "text/plain": [
       "tick0.24711084365845\t\n"
      ]
     },
     "execution_count": 45,
     "metadata": {},
     "output_type": "execute_result"
    },
    {
     "data": {
      "text/plain": [
       "EPOCH: 26\t\n",
       " + Train loss 0.016570876439993 1.3900745563197\t\n"
      ]
     },
     "execution_count": 45,
     "metadata": {},
     "output_type": "execute_result"
    },
    {
     "data": {
      "text/plain": [
       " + Valid loss 0.016012877555998 1.3880131473459\t\n"
      ]
     },
     "execution_count": 45,
     "metadata": {},
     "output_type": "execute_result"
    },
    {
     "data": {
      "text/plain": [
       "tick0.25326800346375\t\n"
      ]
     },
     "execution_count": 45,
     "metadata": {},
     "output_type": "execute_result"
    },
    {
     "data": {
      "text/plain": [
       "EPOCH: 27\t\n",
       " + Train loss 0.016408710684144 1.3900475835095\t\n"
      ]
     },
     "execution_count": 45,
     "metadata": {},
     "output_type": "execute_result"
    },
    {
     "data": {
      "text/plain": [
       " + Valid loss 0.015892090962996 1.3879731689146\t\n"
      ]
     },
     "execution_count": 45,
     "metadata": {},
     "output_type": "execute_result"
    },
    {
     "data": {
      "text/plain": [
       "tick0.29470181465149\t\n"
      ]
     },
     "execution_count": 45,
     "metadata": {},
     "output_type": "execute_result"
    },
    {
     "data": {
      "text/plain": [
       "EPOCH: 28\t\n",
       " + Train loss 0.016247926647655 1.3900214295685\t\n"
      ]
     },
     "execution_count": 45,
     "metadata": {},
     "output_type": "execute_result"
    },
    {
     "data": {
      "text/plain": [
       " + Valid loss 0.015772504687798 1.3879338681082\t\n"
      ]
     },
     "execution_count": 45,
     "metadata": {},
     "output_type": "execute_result"
    },
    {
     "data": {
      "text/plain": [
       "tick0.27108812332153\t\n"
      ]
     },
     "execution_count": 45,
     "metadata": {},
     "output_type": "execute_result"
    },
    {
     "data": {
      "text/plain": [
       "EPOCH: 29\t\n",
       " + Train loss 0.016088021818455 1.3899938978469\t\n"
      ]
     },
     "execution_count": 45,
     "metadata": {},
     "output_type": "execute_result"
    },
    {
     "data": {
      "text/plain": [
       " + Valid loss 0.015654202154886 1.3878929275417\t\n"
      ]
     },
     "execution_count": 45,
     "metadata": {},
     "output_type": "execute_result"
    },
    {
     "data": {
      "text/plain": [
       "tick0.25234198570251\t\n"
      ]
     },
     "execution_count": 45,
     "metadata": {},
     "output_type": "execute_result"
    },
    {
     "data": {
      "text/plain": [
       "EPOCH: 30\t\n",
       " + Train loss 0.015929993009504 1.3899647147461\t\n"
      ]
     },
     "execution_count": 45,
     "metadata": {},
     "output_type": "execute_result"
    },
    {
     "data": {
      "text/plain": [
       " + Valid loss 0.015537456993349 1.3878509052984\t\n"
      ]
     },
     "execution_count": 45,
     "metadata": {},
     "output_type": "execute_result"
    },
    {
     "data": {
      "text/plain": [
       "tick0.39005517959595\t\n"
      ]
     },
     "execution_count": 45,
     "metadata": {},
     "output_type": "execute_result"
    },
    {
     "data": {
      "text/plain": [
       "EPOCH: 31\t\n",
       " + Train loss 0.015773211465656 1.3899380859646\t\n"
      ]
     },
     "execution_count": 45,
     "metadata": {},
     "output_type": "execute_result"
    },
    {
     "data": {
      "text/plain": [
       " + Valid loss 0.015421948216688 1.3878112409453\t\n"
      ]
     },
     "execution_count": 45,
     "metadata": {},
     "output_type": "execute_result"
    },
    {
     "data": {
      "text/plain": [
       "tick0.25341796875\t\n"
      ]
     },
     "execution_count": 45,
     "metadata": {},
     "output_type": "execute_result"
    },
    {
     "data": {
      "text/plain": [
       "EPOCH: 32\t\n"
      ]
     },
     "execution_count": 45,
     "metadata": {},
     "output_type": "execute_result"
    },
    {
     "data": {
      "text/plain": [
       " + Train loss 0.015617376926831 1.3899074071559\t\n"
      ]
     },
     "execution_count": 45,
     "metadata": {},
     "output_type": "execute_result"
    },
    {
     "data": {
      "text/plain": [
       " + Valid loss 0.015307771893876 1.3877676033007\t\n"
      ]
     },
     "execution_count": 45,
     "metadata": {},
     "output_type": "execute_result"
    },
    {
     "data": {
      "text/plain": [
       "tick0.25076103210449\t\n"
      ]
     },
     "execution_count": 45,
     "metadata": {},
     "output_type": "execute_result"
    },
    {
     "data": {
      "text/plain": [
       "EPOCH: 33\t\n",
       " + Train loss 0.015462873539441 1.3898775630085\t\n"
      ]
     },
     "execution_count": 45,
     "metadata": {},
     "output_type": "execute_result"
    },
    {
     "data": {
      "text/plain": [
       " + Valid loss 0.015194689754167 1.3877246556292\t\n"
      ]
     },
     "execution_count": 45,
     "metadata": {},
     "output_type": "execute_result"
    },
    {
     "data": {
      "text/plain": [
       "tick0.28599095344543\t\n"
      ]
     },
     "execution_count": 45,
     "metadata": {},
     "output_type": "execute_result"
    },
    {
     "data": {
      "text/plain": [
       "EPOCH: 34\t\n",
       " + Train loss 0.015309682226885 1.3898471466779\t\n"
      ]
     },
     "execution_count": 45,
     "metadata": {},
     "output_type": "execute_result"
    },
    {
     "data": {
      "text/plain": [
       " + Valid loss 0.015083062150059 1.3876813024666\t\n"
      ]
     },
     "execution_count": 45,
     "metadata": {},
     "output_type": "execute_result"
    },
    {
     "data": {
      "text/plain": [
       "tick0.33353710174561\t\n"
      ]
     },
     "execution_count": 45,
     "metadata": {},
     "output_type": "execute_result"
    },
    {
     "data": {
      "text/plain": [
       "EPOCH: 35\t\n",
       " + Train loss 0.015157850297615 1.3898180813295\t\n"
      ]
     },
     "execution_count": 45,
     "metadata": {},
     "output_type": "execute_result"
    },
    {
     "data": {
      "text/plain": [
       " + Valid loss 0.014972617214786 1.3876392981033\t\n"
      ]
     },
     "execution_count": 45,
     "metadata": {},
     "output_type": "execute_result"
    },
    {
     "data": {
      "text/plain": [
       "tick0.25161790847778\t\n"
      ]
     },
     "execution_count": 45,
     "metadata": {},
     "output_type": "execute_result"
    },
    {
     "data": {
      "text/plain": [
       "EPOCH: 36\t\n",
       " + Train loss 0.015007266762905 1.3897846875315\t\n"
      ]
     },
     "execution_count": 45,
     "metadata": {},
     "output_type": "execute_result"
    },
    {
     "data": {
      "text/plain": [
       " + Valid loss 0.014863456421493 1.3875931975207\t\n"
      ]
     },
     "execution_count": 45,
     "metadata": {},
     "output_type": "execute_result"
    },
    {
     "data": {
      "text/plain": [
       "tick0.24961018562317\t\n"
      ]
     },
     "execution_count": 45,
     "metadata": {},
     "output_type": "execute_result"
    },
    {
     "data": {
      "text/plain": [
       "EPOCH: 37\t\n",
       " + Train loss 0.014857659580963 1.3897513954456\t\n"
      ]
     },
     "execution_count": 45,
     "metadata": {},
     "output_type": "execute_result"
    },
    {
     "data": {
      "text/plain": [
       " + Valid loss 0.014755484233674 1.3875470396904\t\n"
      ]
     },
     "execution_count": 45,
     "metadata": {},
     "output_type": "execute_result"
    },
    {
     "data": {
      "text/plain": [
       "tick0.24684119224548\t\n"
      ]
     },
     "execution_count": 45,
     "metadata": {},
     "output_type": "execute_result"
    },
    {
     "data": {
      "text/plain": [
       "EPOCH: 38\t\n",
       " + Train loss 0.014709488774768 1.3897185908706\t\n"
      ]
     },
     "execution_count": 45,
     "metadata": {},
     "output_type": "execute_result"
    },
    {
     "data": {
      "text/plain": [
       " + Valid loss 0.014648819546654 1.3875015890683\t\n"
      ]
     },
     "execution_count": 45,
     "metadata": {},
     "output_type": "execute_result"
    },
    {
     "data": {
      "text/plain": [
       "tick0.33693599700928\t\n"
      ]
     },
     "execution_count": 45,
     "metadata": {},
     "output_type": "execute_result"
    },
    {
     "data": {
      "text/plain": [
       "EPOCH: 39\t\n",
       " + Train loss 0.014562488766253 1.3896862365536\t\n"
      ]
     },
     "execution_count": 45,
     "metadata": {},
     "output_type": "execute_result"
    },
    {
     "data": {
      "text/plain": [
       " + Valid loss 0.014543262719933 1.3874564772845\t\n"
      ]
     },
     "execution_count": 45,
     "metadata": {},
     "output_type": "execute_result"
    },
    {
     "data": {
      "text/plain": [
       "tick0.23816800117493\t\n"
      ]
     },
     "execution_count": 45,
     "metadata": {},
     "output_type": "execute_result"
    },
    {
     "data": {
      "text/plain": [
       "EPOCH: 40\t\n",
       " + Train loss 0.014416831064868 1.389653342626\t\n"
      ]
     },
     "execution_count": 45,
     "metadata": {},
     "output_type": "execute_result"
    },
    {
     "data": {
      "text/plain": [
       " + Valid loss 0.014438975638274 1.3874110325723\t\n"
      ]
     },
     "execution_count": 45,
     "metadata": {},
     "output_type": "execute_result"
    },
    {
     "data": {
      "text/plain": [
       "tick0.26891994476318\t\n"
      ]
     },
     "execution_count": 45,
     "metadata": {},
     "output_type": "execute_result"
    },
    {
     "data": {
      "text/plain": [
       "EPOCH: 41\t\n",
       " + Train loss 0.014272338056876 1.3896181759374\t\n"
      ]
     },
     "execution_count": 45,
     "metadata": {},
     "output_type": "execute_result"
    },
    {
     "data": {
      "text/plain": [
       " + Valid loss 0.014335934316432 1.3873635243391\t\n"
      ]
     },
     "execution_count": 45,
     "metadata": {},
     "output_type": "execute_result"
    },
    {
     "data": {
      "text/plain": [
       "tick0.26651692390442\t\n"
      ]
     },
     "execution_count": 45,
     "metadata": {},
     "output_type": "execute_result"
    },
    {
     "data": {
      "text/plain": [
       "EPOCH: 42\t\n",
       " + Train loss 0.014128767099694 1.3895818903925\t\n"
      ]
     },
     "execution_count": 45,
     "metadata": {},
     "output_type": "execute_result"
    },
    {
     "data": {
      "text/plain": [
       " + Valid loss 0.014233907501831 1.3873146486268\t\n"
      ]
     },
     "execution_count": 45,
     "metadata": {},
     "output_type": "execute_result"
    },
    {
     "data": {
      "text/plain": [
       "tick0.19757390022278\t\n"
      ]
     },
     "execution_count": 45,
     "metadata": {},
     "output_type": "execute_result"
    },
    {
     "data": {
      "text/plain": [
       "EPOCH: 43\t\n",
       " + Train loss 0.01398696350382 1.389547585498\t\n"
      ]
     },
     "execution_count": 45,
     "metadata": {},
     "output_type": "execute_result"
    },
    {
     "data": {
      "text/plain": [
       " + Valid loss 0.014133398242931 1.3872683140609\t\n"
      ]
     },
     "execution_count": 45,
     "metadata": {},
     "output_type": "execute_result"
    },
    {
     "data": {
      "text/plain": [
       "tick0.19958996772766\t\n"
      ]
     },
     "execution_count": 45,
     "metadata": {},
     "output_type": "execute_result"
    },
    {
     "data": {
      "text/plain": [
       "EPOCH: 44\t\n",
       " + Train loss 0.013846030339996 1.3895129487277\t\n"
      ]
     },
     "execution_count": 45,
     "metadata": {},
     "output_type": "execute_result"
    },
    {
     "data": {
      "text/plain": [
       " + Valid loss 0.014033895999839 1.3872215296469\t\n"
      ]
     },
     "execution_count": 45,
     "metadata": {},
     "output_type": "execute_result"
    },
    {
     "data": {
      "text/plain": [
       "tick0.19093108177185\t\n"
      ]
     },
     "execution_count": 45,
     "metadata": {},
     "output_type": "execute_result"
    },
    {
     "data": {
      "text/plain": [
       "EPOCH: 45\t\n",
       " + Train loss 0.013706505239908 1.3894775636395\t\n"
      ]
     },
     "execution_count": 45,
     "metadata": {},
     "output_type": "execute_result"
    },
    {
     "data": {
      "text/plain": [
       " + Valid loss 0.013935620116656 1.3871741486534\t\n"
      ]
     },
     "execution_count": 45,
     "metadata": {},
     "output_type": "execute_result"
    },
    {
     "data": {
      "text/plain": [
       "tick0.38619112968445\t\n"
      ]
     },
     "execution_count": 45,
     "metadata": {},
     "output_type": "execute_result"
    },
    {
     "data": {
      "text/plain": [
       "EPOCH: 46\t\n",
       " + Train loss 0.013567835760991 1.3894401132777\t\n"
      ]
     },
     "execution_count": 45,
     "metadata": {},
     "output_type": "execute_result"
    },
    {
     "data": {
      "text/plain": [
       " + Valid loss 0.013838379793536 1.3871246122295\t\n"
      ]
     },
     "execution_count": 45,
     "metadata": {},
     "output_type": "execute_result"
    },
    {
     "data": {
      "text/plain": [
       "tick0.16002798080444\t\n"
      ]
     },
     "execution_count": 45,
     "metadata": {},
     "output_type": "execute_result"
    },
    {
     "data": {
      "text/plain": [
       "EPOCH: 47\t\n",
       " + Train loss 0.013430739097957 1.3894019379394\t\n"
      ]
     },
     "execution_count": 45,
     "metadata": {},
     "output_type": "execute_result"
    },
    {
     "data": {
      "text/plain": [
       " + Valid loss 0.013742463583416 1.3870748252754\t\n"
      ]
     },
     "execution_count": 45,
     "metadata": {},
     "output_type": "execute_result"
    },
    {
     "data": {
      "text/plain": [
       "tick0.16458606719971\t\n"
      ]
     },
     "execution_count": 45,
     "metadata": {},
     "output_type": "execute_result"
    },
    {
     "data": {
      "text/plain": [
       "EPOCH: 48\t\n",
       " + Train loss 0.013294663303753 1.3893684762687\t\n"
      ]
     },
     "execution_count": 45,
     "metadata": {},
     "output_type": "execute_result"
    },
    {
     "data": {
      "text/plain": [
       " + Valid loss 0.013647555605354 1.3870294841487\t\n"
      ]
     },
     "execution_count": 45,
     "metadata": {},
     "output_type": "execute_result"
    },
    {
     "data": {
      "text/plain": [
       "tick0.16563510894775\t\n"
      ]
     },
     "execution_count": 45,
     "metadata": {},
     "output_type": "execute_result"
    },
    {
     "data": {
      "text/plain": [
       "EPOCH: 49\t\n",
       " + Train loss 0.013159919561743 1.3893299619971\t\n"
      ]
     },
     "execution_count": 45,
     "metadata": {},
     "output_type": "execute_result"
    },
    {
     "data": {
      "text/plain": [
       " + Valid loss 0.013553884597145 1.3869794791011\t\n"
      ]
     },
     "execution_count": 45,
     "metadata": {},
     "output_type": "execute_result"
    },
    {
     "data": {
      "text/plain": [
       "tick0.24798393249512\t\n"
      ]
     },
     "execution_count": 45,
     "metadata": {},
     "output_type": "execute_result"
    },
    {
     "data": {
      "text/plain": [
       "EPOCH: 50\t\n",
       " + Train loss 0.013026273773509 1.3892921811724\t\n"
      ]
     },
     "execution_count": 45,
     "metadata": {},
     "output_type": "execute_result"
    },
    {
     "data": {
      "text/plain": [
       " + Valid loss 0.013461325413625 1.3869302191037\t\n"
      ]
     },
     "execution_count": 45,
     "metadata": {},
     "output_type": "execute_result"
    },
    {
     "data": {
      "text/plain": [
       "tick0.16096186637878\t\n"
      ]
     },
     "execution_count": 45,
     "metadata": {},
     "output_type": "execute_result"
    }
   ],
   "source": [
    "prevLoss = 10e12\n",
    "\n",
    "numberEpoch = torch.zero(opt.learningRate, opt.maxEpoch)\n",
    "MSEepoch = torch.zero(opt.learningRate, opt.maxEpoch)\n",
    "\n",
    "number\n",
    "for \n",
    "for i = 1,opt.maxEpoch do\n",
    "   --print('Degug here !!!!!!!!!!!!')\n",
    "   featExtractor:evaluate()\n",
    "   labelPredictor:evaluate()\n",
    "   domainClassifier:evaluate()\n",
    "\n",
    "   local sourceFeats = featExtractor:forward(sourceTrainSet)\n",
    "   local sourceTrainPred = labelPredictor:forward(sourceFeats)\n",
    "   local sourceTrainLoss = labelPredictorCriterion:forward(sourceTrainPred, sourceTrainSetLabel) \n",
    "   local sourceDomPreds = domainClassifier:forward(sourceFeats)\n",
    "   local sourceDomCost = domainClassifierCriterion:forward(sourceDomPreds,torch.Tensor(sourceDomPreds:size(1),1):fill(1)) -- TODO: ugly, replace with two unique allocations\n",
    "\n",
    "   local targetFeats = featExtractor:forward(targetTrainSet)\n",
    "   local targetDomPreds = domainClassifier:forward(targetFeats)\n",
    "   local targetDomCost = domainClassifierCriterion:forward(targetDomPreds,torch.Tensor(targetDomPreds:size(1),1):fill(1)) -- TODO: ugly, replace with two unique allocations\n",
    "\n",
    "   -- trainConfusion:batchAdd(sourceTrainPred, sourceTrainSetLabel)\n",
    "   print(\"EPOCH: \" .. i)\n",
    "   -- print(trainConfusion)\n",
    "   print(\" + Train loss \" .. sourceTrainLoss .. \" \" .. sourceDomCost+targetDomCost)\n",
    "\n",
    "   local validPred = labelPredictor:forward(featExtractor:forward(sourceValidSet))\n",
    "   local validLoss = labelPredictorCriterion:forward(validPred, sourceValidSetLabel) \n",
    "\n",
    "   local sourceFeats = featExtractor:forward(sourceValidSet)\n",
    "   local sourceValidPred = labelPredictor:forward(sourceFeats)\n",
    "   local sourceValidLoss = labelPredictorCriterion:forward(sourceValidPred, sourceValidSetLabel) \n",
    "   local sourceDomPreds = domainClassifier:forward(sourceFeats)\n",
    "   local sourceDomCostValid = domainClassifierCriterion:forward(sourceDomPreds,torch.Tensor(sourceDomPreds:size(1),1):fill(1)) -- TODO: ugly, replace with two unique allocations\n",
    "\n",
    "   local targetFeats = featExtractor:forward(targetValidSet)\n",
    "   local targetDomPreds = domainClassifier:forward(targetFeats)\n",
    "   local targetDomCostValid = domainClassifierCriterion:forward(targetDomPreds,torch.Tensor(targetDomPreds:size(1),1):fill(1)) -- TODO: ugly, replace with two unique allocations\n",
    "\n",
    "   -- validConfusion:batchAdd(validPred, sourceValidSetLabel)\n",
    "   -- print(validConfusion)\n",
    "   print(\" + Valid loss \" .. validLoss .. \" \" .. sourceDomCostValid+targetDomCostValid)\n",
    "\n",
    "   -- trainLogger:add{i, trainLoss, trainConfusion.totalValid * 100, validLoss, validConfusion.totalValid * 100}\n",
    "   -- trainConfusion:zero()\n",
    "   -- validConfusion:zero()\n",
    "\n",
    "   if opt.saveModel then\n",
    "\t  if trainLoss < prevLoss then\n",
    "\t\t prevLoss = trainLoss\n",
    "\t\t torch.save(\"model.bin\",model)\n",
    "\t  else\n",
    "\t\t model = torch.load(\"model.bin\")\n",
    "\t  end\n",
    "   end\n",
    "\n",
    "   featExtractor:training()\n",
    "   labelPredictor:training()\n",
    "   domainClassifier:training()\n",
    "   train()\n",
    "end\n"
   ]
  },
  {
   "cell_type": "code",
   "execution_count": null,
   "metadata": {
    "collapsed": true
   },
   "outputs": [],
   "source": []
  }
 ],
 "metadata": {
  "kernelspec": {
   "display_name": "iTorch",
   "language": "lua",
   "name": "itorch"
  },
  "language_info": {
   "name": "lua",
   "version": "5.1"
  }
 },
 "nbformat": 4,
 "nbformat_minor": 0
}
