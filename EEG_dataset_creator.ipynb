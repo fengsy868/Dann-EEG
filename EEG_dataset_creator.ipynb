{
 "cells": [
  {
   "cell_type": "code",
   "execution_count": 20,
   "metadata": {
    "collapsed": false
   },
   "outputs": [],
   "source": [
    "#Load some useful modules\n",
    "import os\n",
    "import numpy as np\n",
    "import gzip, struct\n",
    "import matplotlib as mpl\n",
    "mpl.use('Agg')\n",
    "import matplotlib.pyplot as plt\n",
    "import pickle, gzip\n",
    "import scipy.io as sio\n"
   ]
  },
  {
   "cell_type": "markdown",
   "metadata": {},
   "source": [
    "# Load the raw files into a numpy array"
   ]
  },
  {
   "cell_type": "code",
   "execution_count": 153,
   "metadata": {
    "collapsed": false
   },
   "outputs": [
    {
     "data": {
      "text/plain": [
       "(12000, 56)"
      ]
     },
     "execution_count": 153,
     "metadata": {},
     "output_type": "execute_result"
    }
   ],
   "source": [
    "personId=\"9\"\n",
    "eeg_s1 = sio.loadmat('./data/S'+personId+'_SR200_CE_EEG.ch.mat')\n",
    "eeg_s1['EEG']['samp'][0][0].shape"
   ]
  },
  {
   "cell_type": "code",
   "execution_count": 154,
   "metadata": {
    "collapsed": false
   },
   "outputs": [
    {
     "data": {
      "text/plain": [
       "'agg'"
      ]
     },
     "execution_count": 154,
     "metadata": {},
     "output_type": "execute_result"
    }
   ],
   "source": [
    "mpl.get_backend()"
   ]
  },
  {
   "cell_type": "code",
   "execution_count": 155,
   "metadata": {
    "collapsed": false
   },
   "outputs": [
    {
     "name": "stdout",
     "output_type": "stream",
     "text": [
      "Current size: [15.0, 25.0]\n"
     ]
    }
   ],
   "source": [
    "plt.clf()\n",
    "plt.cla()\n",
    "fig_size = plt.rcParams[\"figure.figsize\"]\n",
    "print \"Current size:\", fig_size\n",
    "fig_size[0] = 10\n",
    "fig_size[1] = 2\n",
    "plt.rcParams[\"figure.figsize\"] = fig_size\n",
    "fig = plt.figure()\n",
    "subEEG = eeg_s1['EEG']['samp'][0][0][:601]\n",
    "plt.yticks([])\n",
    "plt.imshow(subEEG.T)\n",
    "plt.tight_layout()\n",
    "plt.savefig(\"graph/eeg\"+personId+\".pdf\",dpi=600)"
   ]
  },
  {
   "cell_type": "markdown",
   "metadata": {},
   "source": [
    "# Dataset Description"
   ]
  },
  {
   "cell_type": "code",
   "execution_count": 156,
   "metadata": {
    "collapsed": false
   },
   "outputs": [
    {
     "data": {
      "text/plain": [
       "(12000, 56)"
      ]
     },
     "execution_count": 156,
     "metadata": {},
     "output_type": "execute_result"
    }
   ],
   "source": [
    "EEG=eeg_s1['EEG']['samp'][0][0]\n",
    "EEG.shape"
   ]
  },
  {
   "cell_type": "markdown",
   "metadata": {},
   "source": [
    "#Statistics"
   ]
  },
  {
   "cell_type": "code",
   "execution_count": 157,
   "metadata": {
    "collapsed": false
   },
   "outputs": [
    {
     "data": {
      "text/plain": [
       "-572.80000000000007"
      ]
     },
     "execution_count": 157,
     "metadata": {},
     "output_type": "execute_result"
    }
   ],
   "source": [
    "np.min(np.amin(EEG, axis=0).reshape(8,7)) "
   ]
  },
  {
   "cell_type": "code",
   "execution_count": 158,
   "metadata": {
    "collapsed": false
   },
   "outputs": [
    {
     "data": {
      "text/plain": [
       "544.0"
      ]
     },
     "execution_count": 158,
     "metadata": {},
     "output_type": "execute_result"
    }
   ],
   "source": [
    "np.max(np.amax(EEG, axis=0).reshape(8,7))"
   ]
  },
  {
   "cell_type": "code",
   "execution_count": 159,
   "metadata": {
    "collapsed": false
   },
   "outputs": [
    {
     "data": {
      "text/plain": [
       "array([[-55.31, -20.68,  35.14, -38.07, -43.59,  15.9 ,  24.96],\n",
       "       [ 55.38,  58.22, -21.19, -25.88,  63.32,  17.6 ,  32.2 ],\n",
       "       [ -4.97,  -4.17, -26.98,  -5.94,  24.89,  20.75, -47.39],\n",
       "       [  0.56,  57.88,  -1.76,  47.36, -29.63,  97.84,  23.56],\n",
       "       [ -5.41, -43.08, -45.63, -78.34, -23.19,  66.35, -32.64],\n",
       "       [ 10.31, -34.71, -16.46,   7.04,   8.09,  43.06,  24.87],\n",
       "       [ -8.11, -15.53,  27.02, -13.6 ,  77.3 , -10.12,   5.84],\n",
       "       [-40.43,  36.6 ,  30.97, -57.5 , -13.28,  59.71, -51.04]])"
      ]
     },
     "execution_count": 159,
     "metadata": {},
     "output_type": "execute_result"
    }
   ],
   "source": [
    "np.round(np.mean(EEG, axis=0).reshape(8,7),2)"
   ]
  },
  {
   "cell_type": "code",
   "execution_count": 160,
   "metadata": {
    "collapsed": false
   },
   "outputs": [
    {
     "data": {
      "text/plain": [
       "array([[ 245.43,   35.16,   72.82,   30.63,   67.21,   60.59,   41.29],\n",
       "       [  37.04,   33.27,   44.  ,   66.44,   57.43,   53.7 ,   97.95],\n",
       "       [  71.16,   22.23,   27.67,   31.32,   34.2 ,   39.69,   54.06],\n",
       "       [  58.96,   25.3 ,   36.42,   28.67,   46.  ,   70.39,   50.28],\n",
       "       [  33.26,  228.15,   49.49,  151.54,   28.53,   28.98,   29.72],\n",
       "       [  30.96,   47.64,   42.31,   52.48,   34.91,   23.62,   31.8 ],\n",
       "       [  27.19,  106.78,   31.35,   40.91,   38.85,   46.44,   34.63],\n",
       "       [  38.95,   30.46,   27.68,   32.66,   33.3 ,   55.85,   27.73]])"
      ]
     },
     "execution_count": 160,
     "metadata": {},
     "output_type": "execute_result"
    }
   ],
   "source": [
    "np.round(np.std(EEG, axis=0).reshape(8,7),2)"
   ]
  },
  {
   "cell_type": "code",
   "execution_count": 161,
   "metadata": {
    "collapsed": false
   },
   "outputs": [],
   "source": [
    "plt.clf()\n",
    "plt.cla()\n",
    "fig_size[0] = 15\n",
    "fig_size[1] = 25\n",
    "plt.rcParams[\"figure.figsize\"] = fig_size\n",
    "fig = plt.figure()\n",
    "for i in range(EEG.shape[1]):\n",
    "    ax = fig.add_subplot(8, 7, i+1)\n",
    "    plt.hist(EEG[:,i],50, range=[-355, 104],normed=1)\n",
    "    ax.get_xaxis().set_ticks([-355, 0., 183])\n",
    "    ax.get_yaxis().set_ticks([])\n",
    "plt.show()\n",
    "plt.tight_layout()\n",
    "plt.savefig(\"graph/eeg_hist\"+personId+\".pdf\",dpi=600)"
   ]
  },
  {
   "cell_type": "code",
   "execution_count": 162,
   "metadata": {
    "collapsed": false
   },
   "outputs": [],
   "source": [
    "EEG = EEG.astype(float)"
   ]
  },
  {
   "cell_type": "code",
   "execution_count": 163,
   "metadata": {
    "collapsed": false
   },
   "outputs": [],
   "source": [
    "EEG = (EEG - np.amin(EEG))/(np.amax(EEG) - np.amin(EEG))"
   ]
  },
  {
   "cell_type": "code",
   "execution_count": 164,
   "metadata": {
    "collapsed": false
   },
   "outputs": [],
   "source": [
    "#train_perm = np.random.permutation(EEG.shape[0])\n",
    "#print(np.max(train_perm))\n",
    "#EEG = EEG[train_perm,:]"
   ]
  },
  {
   "cell_type": "code",
   "execution_count": 165,
   "metadata": {
    "collapsed": false
   },
   "outputs": [
    {
     "data": {
      "text/plain": [
       "array([[ 0.17147206,  0.53330946,  0.65087751, ...,  0.50743195,\n",
       "         0.55802292,  0.49229943],\n",
       "       [ 0.25993911,  0.53939828,  0.73818052, ...,  0.53169771,\n",
       "         0.5784384 ,  0.50573066],\n",
       "       [ 0.60467407,  0.56008238,  0.75170129, ...,  0.55023281,\n",
       "         0.60145057,  0.53062321],\n",
       "       ..., \n",
       "       [ 0.51110315,  0.46257163,  0.43776862, ...,  0.4803904 ,\n",
       "         0.60010745,  0.45639327],\n",
       "       [ 0.69108166,  0.47286891,  0.44645415, ...,  0.48809097,\n",
       "         0.60673352,  0.46212393],\n",
       "       [ 0.36604585,  0.45003582,  0.43114255, ...,  0.47394341,\n",
       "         0.58864613,  0.4469914 ]])"
      ]
     },
     "execution_count": 165,
     "metadata": {},
     "output_type": "execute_result"
    }
   ],
   "source": [
    "EEG"
   ]
  },
  {
   "cell_type": "code",
   "execution_count": 166,
   "metadata": {
    "collapsed": false
   },
   "outputs": [],
   "source": [
    "# Write the data\n",
    "newFile = open (\"data/EEG\"+personId+\".dat\", \"wb\")\n",
    "newFile.write(struct.pack('i', EEG.shape[0]))\n",
    "newFile.write(struct.pack('i', EEG.shape[1]))\n",
    "EEG.astype('float').tofile(newFile)\n",
    "newFile.close()"
   ]
  },
  {
   "cell_type": "code",
   "execution_count": null,
   "metadata": {
    "collapsed": true
   },
   "outputs": [],
   "source": []
  },
  {
   "cell_type": "code",
   "execution_count": null,
   "metadata": {
    "collapsed": true
   },
   "outputs": [],
   "source": []
  },
  {
   "cell_type": "code",
   "execution_count": null,
   "metadata": {
    "collapsed": true
   },
   "outputs": [],
   "source": []
  }
 ],
 "metadata": {
  "kernelspec": {
   "display_name": "Python 2",
   "language": "python",
   "name": "python2"
  },
  "language_info": {
   "codemirror_mode": {
    "name": "ipython",
    "version": 2
   },
   "file_extension": ".py",
   "mimetype": "text/x-python",
   "name": "python",
   "nbconvert_exporter": "python",
   "pygments_lexer": "ipython2",
   "version": "2.7.10"
  }
 },
 "nbformat": 4,
 "nbformat_minor": 0
}
