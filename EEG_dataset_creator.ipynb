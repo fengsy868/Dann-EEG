{
 "cells": [
  {
   "cell_type": "code",
   "execution_count": 266,
   "metadata": {
    "collapsed": false
   },
   "outputs": [],
   "source": [
    "#Load some useful modules\n",
    "import os\n",
    "import numpy as np\n",
    "import gzip, struct\n",
    "import matplotlib as mpl\n",
    "mpl.use('Agg')\n",
    "import matplotlib.pyplot as plt\n",
    "import pickle, gzip\n",
    "import scipy.io as sio\n"
   ]
  },
  {
   "cell_type": "markdown",
   "metadata": {},
   "source": [
    "# Load the raw files into a numpy array"
   ]
  },
  {
   "cell_type": "code",
   "execution_count": 267,
   "metadata": {
    "collapsed": false
   },
   "outputs": [
    {
     "data": {
      "text/plain": [
       "(12000, 56)"
      ]
     },
     "execution_count": 267,
     "metadata": {},
     "output_type": "execute_result"
    }
   ],
   "source": [
    "personId=\"1\"\n",
    "eeg_s1 = sio.loadmat('./Eyes-closed/Session 2/S'+personId+'_SR200_CE_EEG.ch.mat')\n",
    "eeg_s1['EEG']['samp'][0][0].shape"
   ]
  },
  {
   "cell_type": "code",
   "execution_count": 268,
   "metadata": {
    "collapsed": false
   },
   "outputs": [
    {
     "data": {
      "text/plain": [
       "'agg'"
      ]
     },
     "execution_count": 268,
     "metadata": {},
     "output_type": "execute_result"
    }
   ],
   "source": [
    "mpl.get_backend()"
   ]
  },
  {
   "cell_type": "code",
   "execution_count": 269,
   "metadata": {
    "collapsed": false
   },
   "outputs": [
    {
     "name": "stdout",
     "output_type": "stream",
     "text": [
      "Current size: [15.0, 25.0]\n"
     ]
    }
   ],
   "source": [
    "plt.clf()\n",
    "plt.cla()\n",
    "fig_size = plt.rcParams[\"figure.figsize\"]\n",
    "print \"Current size:\", fig_size\n",
    "fig_size[0] = 10\n",
    "fig_size[1] = 2\n",
    "plt.rcParams[\"figure.figsize\"] = fig_size\n",
    "fig = plt.figure()\n",
    "subEEG = eeg_s1['EEG']['samp'][0][0][:601]\n",
    "plt.yticks([])\n",
    "plt.imshow(subEEG.T)\n",
    "plt.tight_layout()\n",
    "plt.savefig(\"graph/eeg\"+personId+\".pdf\",dpi=600)"
   ]
  },
  {
   "cell_type": "markdown",
   "metadata": {},
   "source": [
    "# Dataset Description"
   ]
  },
  {
   "cell_type": "code",
   "execution_count": 270,
   "metadata": {
    "collapsed": false
   },
   "outputs": [
    {
     "data": {
      "text/plain": [
       "(12000, 56)"
      ]
     },
     "execution_count": 270,
     "metadata": {},
     "output_type": "execute_result"
    }
   ],
   "source": [
    "EEG=eeg_s1['EEG']['samp'][0][0]\n",
    "EEG.shape"
   ]
  },
  {
   "cell_type": "markdown",
   "metadata": {},
   "source": [
    "#Statistics"
   ]
  },
  {
   "cell_type": "code",
   "execution_count": 271,
   "metadata": {
    "collapsed": false
   },
   "outputs": [
    {
     "data": {
      "text/plain": [
       "-129.20000000000002"
      ]
     },
     "execution_count": 271,
     "metadata": {},
     "output_type": "execute_result"
    }
   ],
   "source": [
    "np.min(np.amin(EEG, axis=0).reshape(8,7)) "
   ]
  },
  {
   "cell_type": "code",
   "execution_count": 272,
   "metadata": {
    "collapsed": false
   },
   "outputs": [
    {
     "data": {
      "text/plain": [
       "188.80000000000001"
      ]
     },
     "execution_count": 272,
     "metadata": {},
     "output_type": "execute_result"
    }
   ],
   "source": [
    "np.max(np.amax(EEG, axis=0).reshape(8,7))"
   ]
  },
  {
   "cell_type": "code",
   "execution_count": 273,
   "metadata": {
    "collapsed": false
   },
   "outputs": [
    {
     "data": {
      "text/plain": [
       "array([[ 38.4 ,  33.64,  35.66,   3.26,  16.14,  17.06,  10.57],\n",
       "       [ 26.19,  25.81,  15.87,  -6.38,  20.17,  14.17,  37.89],\n",
       "       [ 19.54,  16.21,  21.47,  12.59,  28.31,  12.01,  10.67],\n",
       "       [  9.15,   4.31,  12.58,  -4.2 ,  15.1 ,  17.21,  -8.13],\n",
       "       [ 18.68,  12.29,  -4.8 ,  -0.09,  14.78,   9.1 ,  13.77],\n",
       "       [  4.69,   8.81,   0.35,  16.04,  29.93,  16.08,  14.51],\n",
       "       [  8.82,  14.28,  13.87,   3.67,  12.64,   6.38,   1.72],\n",
       "       [  4.07,  10.47,  10.3 ,  10.03,   4.88,   8.28,   4.  ]])"
      ]
     },
     "execution_count": 273,
     "metadata": {},
     "output_type": "execute_result"
    }
   ],
   "source": [
    "np.round(np.mean(EEG, axis=0).reshape(8,7),2)"
   ]
  },
  {
   "cell_type": "code",
   "execution_count": 274,
   "metadata": {
    "collapsed": false
   },
   "outputs": [
    {
     "data": {
      "text/plain": [
       "array([[ 40.61,  50.21,  45.71,  32.84,  36.74,  37.35,  27.48],\n",
       "       [ 29.16,  28.99,  28.34,  25.47,  28.14,  30.07,  33.48],\n",
       "       [ 47.24,  22.31,  26.02,  22.71,  33.57,  30.83,  25.92],\n",
       "       [ 27.64,  17.24,  18.62,  25.67,  23.56,  22.33,  22.17],\n",
       "       [ 21.38,  20.26,  18.17,  17.01,  19.87,  23.36,  23.34],\n",
       "       [ 23.55,  22.64,  22.01,  25.13,  20.4 ,  21.24,  23.7 ],\n",
       "       [ 27.34,  27.54,  24.62,  25.54,  24.39,  21.15,  16.38],\n",
       "       [ 26.94,  26.99,  28.38,  25.53,  25.22,  24.97,  25.31]])"
      ]
     },
     "execution_count": 274,
     "metadata": {},
     "output_type": "execute_result"
    }
   ],
   "source": [
    "np.round(np.std(EEG, axis=0).reshape(8,7),2)"
   ]
  },
  {
   "cell_type": "code",
   "execution_count": 275,
   "metadata": {
    "collapsed": false
   },
   "outputs": [],
   "source": [
    "plt.clf()\n",
    "plt.cla()\n",
    "fig_size[0] = 15\n",
    "fig_size[1] = 25\n",
    "plt.rcParams[\"figure.figsize\"] = fig_size\n",
    "fig = plt.figure()\n",
    "for i in range(EEG.shape[1]):\n",
    "    ax = fig.add_subplot(8, 7, i+1)\n",
    "    plt.hist(EEG[:,i],50, range=[-355, 104],normed=1)\n",
    "    ax.get_xaxis().set_ticks([-355, 0., 183])\n",
    "    ax.get_yaxis().set_ticks([])\n",
    "plt.show()\n",
    "plt.tight_layout()\n",
    "plt.savefig(\"graph/eeg_hist\"+personId+\".pdf\",dpi=600)"
   ]
  },
  {
   "cell_type": "code",
   "execution_count": 276,
   "metadata": {
    "collapsed": false
   },
   "outputs": [],
   "source": [
    "EEG = EEG.astype(float)"
   ]
  },
  {
   "cell_type": "code",
   "execution_count": 277,
   "metadata": {
    "collapsed": false
   },
   "outputs": [],
   "source": [
    "EEG = (EEG - np.amin(EEG))/(np.amax(EEG) - np.amin(EEG))"
   ]
  },
  {
   "cell_type": "code",
   "execution_count": 278,
   "metadata": {
    "collapsed": false
   },
   "outputs": [],
   "source": [
    "#train_perm = np.random.permutation(EEG.shape[0])\n",
    "#print(np.max(train_perm))\n",
    "#EEG = EEG[train_perm,:]"
   ]
  },
  {
   "cell_type": "code",
   "execution_count": 279,
   "metadata": {
    "collapsed": false
   },
   "outputs": [
    {
     "data": {
      "text/plain": [
       "array([[ 0.62704403,  0.6009434 ,  0.5836478 , ...,  0.5       ,\n",
       "         0.49559748,  0.50188679],\n",
       "       [ 0.63081761,  0.61037736,  0.59056604, ...,  0.50754717,\n",
       "         0.49433962,  0.52232704],\n",
       "       [ 0.57012579,  0.55503145,  0.5418239 , ...,  0.46037736,\n",
       "         0.43584906,  0.47704403],\n",
       "       ..., \n",
       "       [ 0.18459119,  0.16257862,  0.12075472, ...,  0.33805031,\n",
       "         0.40314465,  0.37421384],\n",
       "       [ 0.18930818,  0.16540881,  0.12515723, ...,  0.33176101,\n",
       "         0.3990566 ,  0.37075472],\n",
       "       [ 0.22327044,  0.19654088,  0.16037736, ...,  0.36163522,\n",
       "         0.42924528,  0.39968553]])"
      ]
     },
     "execution_count": 279,
     "metadata": {},
     "output_type": "execute_result"
    }
   ],
   "source": [
    "EEG"
   ]
  },
  {
   "cell_type": "code",
   "execution_count": 280,
   "metadata": {
    "collapsed": false
   },
   "outputs": [],
   "source": [
    "# Write the data\n",
    "newFile = open (\"Eyes-closed/Session 2/EEG\"+personId+\".dat\", \"wb\")\n",
    "newFile.write(struct.pack('i', EEG.shape[0]))\n",
    "newFile.write(struct.pack('i', EEG.shape[1]))\n",
    "EEG.astype('float').tofile(newFile)\n",
    "newFile.close()"
   ]
  },
  {
   "cell_type": "code",
   "execution_count": null,
   "metadata": {
    "collapsed": true
   },
   "outputs": [],
   "source": []
  },
  {
   "cell_type": "code",
   "execution_count": null,
   "metadata": {
    "collapsed": true
   },
   "outputs": [],
   "source": []
  },
  {
   "cell_type": "code",
   "execution_count": null,
   "metadata": {
    "collapsed": true
   },
   "outputs": [],
   "source": []
  }
 ],
 "metadata": {
  "kernelspec": {
   "display_name": "Python 2",
   "language": "python",
   "name": "python2"
  },
  "language_info": {
   "codemirror_mode": {
    "name": "ipython",
    "version": 2
   },
   "file_extension": ".py",
   "mimetype": "text/x-python",
   "name": "python",
   "nbconvert_exporter": "python",
   "pygments_lexer": "ipython2",
   "version": "2.7.10"
  }
 },
 "nbformat": 4,
 "nbformat_minor": 0
}
